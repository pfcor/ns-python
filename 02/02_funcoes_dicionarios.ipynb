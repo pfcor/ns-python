{
 "cells": [
  {
   "cell_type": "markdown",
   "metadata": {},
   "source": [
    "# Netshoes Python Challenge\n",
    "#### DESAFIO 02\n",
    "<br>\n",
    "\n",
    "<img src=\"images\\ns_s2_py.jpg\"/>\n",
    "\n",
    "<br>\n",
    "## funcs & dicts"
   ]
  },
  {
   "cell_type": "markdown",
   "metadata": {},
   "source": [
    "Bem vindos a mais uma edição do nosso Netshoes Python Challenge!\n",
    "\n",
    "Hoje vamos nos aprofundar no conhecimento que adquirimos anteriormente com `strings` para obter informações de textos, por meio de novos conceitos: `functions` e `dictionaries`!\n",
    "\n",
    "Dados em formato não estruturado (i.e. em formato tabular) são hoje uma das principais fontes de potenciais insights no mundo, em especial com a profusão de redes sociais. Em especial, no caso de dados textuais, Python se apresenta como uma versátil ferramenta para manipulação de `strings`, podendo, com facilidade, ler arquivos contendo esse tipo de dados e, com breves e expressivos comandos, retirando informações mais facilmente interpretáveis.\n",
    "\n",
    "Não vamos aqui entrar em todos os potenciais detalhes da análise de dados textuais com Python, mas vamos buscar explorar algumas técnicas que nos permita vislumbrar o poder dessa ferramenta."
   ]
  },
  {
   "cell_type": "markdown",
   "metadata": {},
   "source": [
    "### - dicts\n",
    "\n",
    "Vamos começar por uma importante estrutura de dados, os dicionários!\n",
    "\n",
    "Para quem já conhece outras linguagens de programação ou o formato `json`, vai facilmente reconhecer a organização dessa estrutura como uma organização \"chave-valor\".\n",
    "\n",
    "Dicionários permitem que se conectem pedaços de informação relacionados. Com eles, é possível modelar objetos do mundo real de forma muito mais precisa. Por exemplo, um dicionário que representa uma pessoa pode conter todas as informações relacionada a ela que você desejar.\n",
    "\n",
    "Vamos iniciar com alguns exemplos. Imagine um jogo que conta com aliens, suas informações podem ser guardadas (e posteriormente obtidas) da seguinte forma:"
   ]
  },
  {
   "cell_type": "code",
   "execution_count": 18,
   "metadata": {},
   "outputs": [
    {
     "name": "stdout",
     "output_type": "stream",
     "text": [
      "O nome do alien é ET Bilu e o seu lema é \"Busquem conhecimento!\".\n",
      "Salto para frente\n",
      "16\n"
     ]
    }
   ],
   "source": [
    "alien_0 = {'nome': 'ET Bilu', 'poder': 'Salto para frente', 'pontos': 16, 'lema': 'Busquem conhecimento!'}\n",
    "\n",
    "print(f'O nome do alien é {alien_0[\"nome\"]} e o seu lema é \"{alien_0[\"lema\"]}\".')\n",
    "print(alien_0['poder'])\n",
    "print(alien_0['pontos'])"
   ]
  },
  {
   "cell_type": "markdown",
   "metadata": {},
   "source": [
    "Como dito anteriormente, um dicionário em Python é uma coleção de pares `chaves-valor`, em que um valor é acessado por meio de uma chave a ele associado. Cada `chave` é conectada a um `valor` por meio de dois-pontos `:` e cada par é separado por uma vírgula.\n",
    "\n",
    "No nosso exemplo, a chave `\"nome\"` está associada ao valor `\"ET Bilu\"`.\n",
    "\n",
    "Com o dicionário já criado, é possível adicionar novos pares de informação:"
   ]
  },
  {
   "cell_type": "code",
   "execution_count": 19,
   "metadata": {},
   "outputs": [
    {
     "name": "stdout",
     "output_type": "stream",
     "text": [
      "{'nome': 'ET Bilu', 'poder': 'Salto para frente', 'pontos': 16, 'lema': 'Busquem conhecimento!', 'altura': 140}\n"
     ]
    }
   ],
   "source": [
    "alien_0['altura'] = 140\n",
    "\n",
    "print(alien_0)"
   ]
  },
  {
   "cell_type": "markdown",
   "metadata": {},
   "source": [
    "Podemos também atualizar um valor já existente:"
   ]
  },
  {
   "cell_type": "code",
   "execution_count": 20,
   "metadata": {},
   "outputs": [
    {
     "name": "stdout",
     "output_type": "stream",
     "text": [
      "o alien ET Bilu tem 16 pontos\n",
      "agora o alien ET Bilu tem 26 pontos\n"
     ]
    }
   ],
   "source": [
    "print(f\"o alien {alien_0['nome']} tem {alien_0['pontos']} pontos\")\n",
    "alien_0['pontos'] = alien_0['pontos'] + 10\n",
    "print(f\"agora o alien {alien_0['nome']} tem {alien_0['pontos']} pontos\")"
   ]
  },
  {
   "cell_type": "markdown",
   "metadata": {},
   "source": [
    "Além disso, podemos remover pares `chave-valor` por meio da palavra-chave `del`:"
   ]
  },
  {
   "cell_type": "code",
   "execution_count": 21,
   "metadata": {},
   "outputs": [
    {
     "name": "stdout",
     "output_type": "stream",
     "text": [
      "{'nome': 'ET Bilu', 'poder': 'Salto para frente', 'pontos': 26, 'lema': 'Busquem conhecimento!'}\n"
     ]
    }
   ],
   "source": [
    "del alien_0['altura']\n",
    "\n",
    "print(alien_0)"
   ]
  },
  {
   "cell_type": "markdown",
   "metadata": {},
   "source": [
    "Como se vê, diferentes tipos podem ser utilizados para os valores de um dicionário. Na realidade, até mesmo outros dicionários podem ser guardados em um dicionário. Vamos reinserir a altura no nosso alien:"
   ]
  },
  {
   "cell_type": "code",
   "execution_count": 23,
   "metadata": {},
   "outputs": [
    {
     "name": "stdout",
     "output_type": "stream",
     "text": [
      "{'nome': 'ET Bilu', 'poder': 'Salto para frente', 'pontos': 26, 'lema': 'Busquem conhecimento!', 'altura': {'medida': 1.4, 'unidade': 'metros'}}\n",
      "{'medida': 1.4, 'unidade': 'metros'}\n"
     ]
    }
   ],
   "source": [
    "alien_0['altura'] = {'medida': 1.4, 'unidade': 'metros'}\n",
    "\n",
    "print(alien_0)\n",
    "print(alien_0['altura'])"
   ]
  },
  {
   "cell_type": "markdown",
   "metadata": {},
   "source": [
    "Até aqui só usamos `strings` para as chaves, que o mais comum, mas na realidade, qualquer tipo imutável pode ser utilizado como chave:"
   ]
  },
  {
   "cell_type": "code",
   "execution_count": 24,
   "metadata": {},
   "outputs": [],
   "source": [
    "a = {\n",
    "    1: \"um\",\n",
    "    2: \"dois\",\n",
    "    3.14: \"pi\",\n",
    "    (1,4): \"tupla\"\n",
    "}"
   ]
  },
  {
   "cell_type": "markdown",
   "metadata": {},
   "source": [
    "Valores mutáveis não são aceitos:"
   ]
  },
  {
   "cell_type": "code",
   "execution_count": 25,
   "metadata": {},
   "outputs": [
    {
     "ename": "TypeError",
     "evalue": "unhashable type: 'list'",
     "output_type": "error",
     "traceback": [
      "\u001b[1;31m---------------------------------------------------------------------------\u001b[0m",
      "\u001b[1;31mTypeError\u001b[0m                                 Traceback (most recent call last)",
      "\u001b[1;32m<ipython-input-25-6bc9bcf67dea>\u001b[0m in \u001b[0;36m<module>\u001b[1;34m()\u001b[0m\n\u001b[1;32m----> 1\u001b[1;33m \u001b[0ma\u001b[0m\u001b[1;33m[\u001b[0m\u001b[1;33m[\u001b[0m\u001b[1;36m1\u001b[0m\u001b[1;33m,\u001b[0m\u001b[1;36m2\u001b[0m\u001b[1;33m,\u001b[0m\u001b[1;36m3\u001b[0m\u001b[1;33m]\u001b[0m\u001b[1;33m]\u001b[0m \u001b[1;33m=\u001b[0m \u001b[1;34m\"listas são mutáveis\"\u001b[0m\u001b[1;33m\u001b[0m\u001b[0m\n\u001b[0m",
      "\u001b[1;31mTypeError\u001b[0m: unhashable type: 'list'"
     ]
    }
   ],
   "source": [
    "a[[1,2,3]] = \"listas são mutáveis\""
   ]
  },
  {
   "cell_type": "code",
   "execution_count": null,
   "metadata": {},
   "outputs": [],
   "source": []
  }
 ],
 "metadata": {
  "kernelspec": {
   "display_name": "Python 3",
   "language": "python",
   "name": "python3"
  },
  "language_info": {
   "codemirror_mode": {
    "name": "ipython",
    "version": 3
   },
   "file_extension": ".py",
   "mimetype": "text/x-python",
   "name": "python",
   "nbconvert_exporter": "python",
   "pygments_lexer": "ipython3",
   "version": "3.6.5"
  }
 },
 "nbformat": 4,
 "nbformat_minor": 2
}
