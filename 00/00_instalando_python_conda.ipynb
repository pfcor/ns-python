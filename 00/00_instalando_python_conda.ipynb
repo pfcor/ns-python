{
 "cells": [
  {
   "cell_type": "markdown",
   "metadata": {},
   "source": [
    "# Netshoes Python Challenge\n",
    "<br>\n",
    "<img src=\"images/ns-python-small.png\"/>\n",
    "\n",
    "<br>\n",
    "<b>Bem vindo!</b>\n",
    "\n",
    "Vamos iniciar hoje os trabalhos de aprendizado de Python em conjunto!\n",
    "\n",
    "A princípio, bi-semanalmente, serão disponibilizados desafios que terão como objetivo introduzir e reforçar conceitos importantes da linguagem de programação, na medida do possível nos aproximando de aplicações de ciência de dados e de e-commerce.\n",
    "\n",
    "<hr>"
   ]
  },
  {
   "cell_type": "markdown",
   "metadata": {},
   "source": [
    "## Semana 1"
   ]
  },
  {
   "cell_type": "markdown",
   "metadata": {},
   "source": [
    "Nosso primeiro desafio será configurar o ambiente de desenvolvimento.\n",
    "\n",
    "O sugerido aqui é que tenhamos todos um ambiente igual, em que possamos controlar exatamente as bibliotecas utilizadas, garantindo que tenhamos as mesmas versões.\n",
    "\n",
    "Caso você já tenha uma instalação Python, e quiser utilizar o seu próprio setup, pode pular esse desafio e ir direto para os testes. A única questão é que se tenha o Jupyter Notebook instalado.\n",
    "\n",
    "Do contrário, vamos fazer a instalação do Python por meio da distribução [Anaconda](https://www.anaconda.com/download/). Com elas, rapidamente teremos o Python disponível junto com diversas bibliotecas científicas, entre elas o já citado Jupyter Notebook, assim como libs importantes para o meio da análise de dados, como o `pandas`, `numpy` e `matplotlib`.\n",
    "\n",
    "Outro ponto importante do Anaconda, é a ferramenta `conda`, que utilizaremos para criar uma ambiente virtual para nosso desafio. Além do já citado controle de versão das libs, é uma boa prática compartimentar instalações para projetos específicos, evitando a poluição da intalação base. Outra vantagem é que por vezes, podemos querer ter mais de uma versão do Python (2.x e 3.x, p.e.) na mesma máquina, e a melhor solução para isso é a criação de ambientes virtuais.\n",
    "\n",
    "Vamos, portanto, realizar essa configuração juntos:"
   ]
  },
  {
   "cell_type": "markdown",
   "metadata": {},
   "source": [
    "### Python 2 vs Python 3\n",
    "\n",
    "Uma fonte de confusão comum para iniciantes é a existência de duas versões ativas de Python. Não vamos entrar em detalhe aqui, basta saber que Python 3 é o futuro da linguagem, e é essa a versão que vamos utilizar."
   ]
  },
  {
   "cell_type": "markdown",
   "metadata": {},
   "source": [
    "### Instalando o Anaconda\n",
    "\n",
    "<img src=\"images/Anaconda_Logo.png\"/>\n",
    "\n",
    "Fazer o download [aqui](https://www.anaconda.com/download/), tomando cuidado para escolher a versão correta: <b>3.6</b>\n",
    "\n",
    "O download pode levar um tempo, pois estamos baixando inúmeros pacotes de uma vez. Caso se entenda que essa é uma instalação muito pesada, pode-se utilizar o `Miniconda`, que vem apenas com o Python e o `conda`. Para instalar o `miniconda`, pode-se seguir o link [aqui](https://conda.io/miniconda.html). Nesse caso, cada pacote deverá ser instalado individualmente.\n",
    "\n",
    "Após o download, é só clicar duas vezes no executável e seguir as instruções. Deve-se prestar especial atenção em um passo apenas:\n",
    "\n",
    "<img src=\"images/anaconda_install.PNG\"/>\n",
    "\n",
    "Apesar do aviso em vermelho, selecionar as duas opções nessa janela. Uma fará com que o Python do Anaconda seja o padrão de sua máquina e o outro deixará o `conda` acessível pela linha de comando.\n",
    "\n",
    "Siga todos os passos e a instalação deve ser finalizada com sucesso."
   ]
  },
  {
   "cell_type": "markdown",
   "metadata": {},
   "source": [
    "### Testando a instalação\n",
    "\n",
    "Vamos conferir que temos o Python instalado. Abra um prompt (`cmd` na busca do Windows) e digite `python` para acessar a interface interativa da linguagem. Você deve observar algo como o seguinte.\n",
    "\n",
    "<img src=\"images/python_cmd.PNG\"/>\n",
    "\n",
    "Feito isso, vamos agora conferir que o Jupyter Notebook está corretamente instalado. Digite:\n",
    "\n",
    "<img src=\"images/jupyter_call.PNG\"/>\n",
    "\n",
    "Uma janela com a interface de entrada do Jupyter Notebook deve aparecer:\n",
    "\n",
    "<img src=\"images/jupyter_nb.PNG\"/>\n",
    "\n",
    "Se você chegou até aqui, sua instalação foi bem sucedida! Você pode fechar essa janela e prompt onde escreveu `jupyter notebook`."
   ]
  },
  {
   "cell_type": "markdown",
   "metadata": {},
   "source": [
    "### Criando um ambiente virtual com o *conda*\n",
    "\n",
    "O próximo passo é o de criar nosso ambiente!\n",
    "\n",
    "Na linha de comando digite a seguinte linha:\n",
    "\n",
    "```\n",
    "conda create --name ns-python python=3.6\n",
    "```\n",
    "\n",
    "Isso vai criar um novo ambiente limpo. Sem nenhum dos pacotes terceiros presentes na instalação base. O novo ambiente é ativado com o seguinte comando:\n",
    "\n",
    "```\n",
    "activate ns-python\n",
    "```\n",
    "\n",
    "Nesse momento, o nome do novo ambiente (`ns-python` é apenas uma sugestão, pode ser qualquer nome) deve aparecer ao lado esquerdo do prompt, como na imagem:\n",
    "\n",
    "<img src=\"images/conda_activate.PNG\"/>\n",
    "\n",
    "Vamos na sequência configurar o Jupyter para que ele consiga enxergar nosso ambiente. Digite os seguintes comandos (com o ambiente ativo!):\n",
    "\n",
    "```\n",
    "conda install ipykernel\n",
    "python -m ipykernel install --user --name ns-python --display-name \"Python [ns-python]\"\n",
    "```\n",
    "\n",
    "Agora para testar esse último passo, vamos mais uma vez disparar o jupyter e ao iniciar um novo notebook, o nosso ambiente deve aparecer como opção (junto com outros ambientes que você pode ter criado ou vir a criar)\n",
    "\n",
    "<img src=\"images/ipykernel_env.PNG\"/>\n",
    "\n",
    "Clique em nosso ambiente e você estar um novo notebook, pronto para começar a escrever código!\n",
    "\n",
    "<img src=\"images/jupyter_exemplo.PNG\"/>"
   ]
  },
  {
   "cell_type": "markdown",
   "metadata": {},
   "source": [
    "Como primeiro desafio, portanto, enviar para [mim](mailto:pedro.correia@netshoes.com) um print como o de cima mostrando o ambiente utilizado no notebook e uma célula *printando* por que você quer aprender Python! =]\n",
    "\n",
    "Qualquer dúvida conte comigo ou com os vários pythonistas do nosso time."
   ]
  },
  {
   "cell_type": "markdown",
   "metadata": {},
   "source": [
    "Acabamos por aqui a primeira semana! No próximo desafio utilizaremos o Jupyter Notebook para aprender Python e já começar a resolver problemas!\n",
    "\n",
    "Até lá e happy coding!"
   ]
  }
 ],
 "metadata": {
  "kernelspec": {
   "display_name": "Python 3",
   "language": "python",
   "name": "python3"
  },
  "language_info": {
   "codemirror_mode": {
    "name": "ipython",
    "version": 3
   },
   "file_extension": ".py",
   "mimetype": "text/x-python",
   "name": "python",
   "nbconvert_exporter": "python",
   "pygments_lexer": "ipython3",
   "version": "3.6.5"
  }
 },
 "nbformat": 4,
 "nbformat_minor": 2
}
