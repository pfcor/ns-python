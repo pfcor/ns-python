{
 "cells": [
  {
   "cell_type": "markdown",
   "metadata": {},
   "source": [
    "# Netshoes Python Challenge\n",
    "#### SEMANA 01\n",
    "<br>\n",
    "\n",
    "<img src=\"images\\ns_s2_py.jpg\"/>\n",
    "\n",
    "<br>\n",
    "## loops e strings"
   ]
  },
  {
   "cell_type": "markdown",
   "metadata": {},
   "source": [
    "Hoje iniciamos nossos desafios propriamente ditos! Vamos começar por dois temas muito importantes no âmbito da programação e da ciência de dados, `loops` e manipulação de `strings`!\n",
    "\n",
    "Para os colegas mais experientes que já se sintam confortáveis com a sintaxe do Python, podem saltar para o desafio no fim deste notebook, para os restantes, serão propostos alguns exercícios preliminares que têm como objetivo introduzir brevemente o assunto.\n",
    "\n",
    "A ideia não é criar um tutorial compreensivo, e sim motivar a pesquisa e o raciocínio pythonista. Existem já vários na internet disponíveis gratuitamente e eu recomendo utilizá-los.\n",
    "\n",
    "O ideal para cada um dos exercícios a seguir é utilizar a documentação oficial e buscar os métodos necessários. Caso encontre algum bloqueio, não hesite em me procurar pessoalmente ou pedir ajuda para os vários experts da área."
   ]
  },
  {
   "cell_type": "markdown",
   "metadata": {},
   "source": [
    "### - string\n",
    "\n",
    "Uma string nada mais é que uma sequência de caracteres que serão interpretetados em conjunto e de forma literal, criando um texto. No Python, elas podem ser construídas por meio de \n",
    "- aspas simples: `'permite aspas \"duplas\" internamente'`\n",
    "- aspas duplas: `\"permite aspas 'simples' internamente\"`\n",
    "- aspas triplas: `'''Três aspas simples'''`, `\"\"\"Três aspas duplas\"\"\"`  <- podem ocupar diversas linhas ao mesmo tempo"
   ]
  },
  {
   "cell_type": "code",
   "execution_count": 1,
   "metadata": {},
   "outputs": [],
   "source": [
    "string_01 = \"meu nome é ricardinho\" # string_01 é apenas o nome da variável, poderia ser qualquer coisa"
   ]
  },
  {
   "cell_type": "code",
   "execution_count": 2,
   "metadata": {},
   "outputs": [
    {
     "data": {
      "text/plain": [
       "'meu nome é ricardinho'"
      ]
     },
     "execution_count": 2,
     "metadata": {},
     "output_type": "execute_result"
    }
   ],
   "source": [
    "string_01"
   ]
  },
  {
   "cell_type": "code",
   "execution_count": 3,
   "metadata": {},
   "outputs": [
    {
     "data": {
      "text/plain": [
       "str"
      ]
     },
     "execution_count": 3,
     "metadata": {},
     "output_type": "execute_result"
    }
   ],
   "source": [
    "type(string_01) # type é uma função que retorna o tipo do objeto fornecido a ela"
   ]
  },
  {
   "cell_type": "code",
   "execution_count": 4,
   "metadata": {},
   "outputs": [
    {
     "data": {
      "text/plain": [
       "21"
      ]
     },
     "execution_count": 4,
     "metadata": {},
     "output_type": "execute_result"
    }
   ],
   "source": [
    "len(string_01) # len retorna o tamanho da sequência, no caso da string `string_01`"
   ]
  },
  {
   "cell_type": "markdown",
   "metadata": {},
   "source": [
    "Uma série de métodos estão associados ao tipo `str`. A listagem completa pode ser acessada na [documentação](https://docs.python.org/3.7/library/string.html), além de que você pode acessar informações sobre os métodos via `help`:"
   ]
  },
  {
   "cell_type": "code",
   "execution_count": 5,
   "metadata": {},
   "outputs": [
    {
     "name": "stdout",
     "output_type": "stream",
     "text": [
      "Help on method_descriptor:\n",
      "\n",
      "replace(...)\n",
      "    S.replace(old, new[, count]) -> str\n",
      "    \n",
      "    Return a copy of S with all occurrences of substring\n",
      "    old replaced by new.  If the optional argument count is\n",
      "    given, only the first count occurrences are replaced.\n",
      "\n"
     ]
    }
   ],
   "source": [
    "help(str.replace)"
   ]
  },
  {
   "cell_type": "markdown",
   "metadata": {},
   "source": [
    "Um detalhe importante do retornado acima é a seguinte frase: `Return a copy of S`. Todos os métodos que modificam uma string na realidade retornam uma <b>nova</b> string, as mudanças não ocorrem `in place`. Isso de deve ao fato de que strings são *imutáveis* no Python.\n",
    "\n",
    "Vamos ver alguns dos métodos mais usados, de forma a dar um start na sua exploração dessa importante `data structure`."
   ]
  },
  {
   "cell_type": "markdown",
   "metadata": {},
   "source": [
    "> `upper`, `lower`, `title`"
   ]
  },
  {
   "cell_type": "code",
   "execution_count": 6,
   "metadata": {},
   "outputs": [],
   "source": [
    "capt_misturada = 'PyTHoN hackER'"
   ]
  },
  {
   "cell_type": "code",
   "execution_count": 7,
   "metadata": {},
   "outputs": [
    {
     "data": {
      "text/plain": [
       "'PYTHON HACKER'"
      ]
     },
     "execution_count": 7,
     "metadata": {},
     "output_type": "execute_result"
    }
   ],
   "source": [
    "capt_misturada.upper() # transforma todos os caracteres em maisculos"
   ]
  },
  {
   "cell_type": "code",
   "execution_count": 8,
   "metadata": {},
   "outputs": [
    {
     "data": {
      "text/plain": [
       "'python hacker'"
      ]
     },
     "execution_count": 8,
     "metadata": {},
     "output_type": "execute_result"
    }
   ],
   "source": [
    "capt_misturada.lower() # transforma todos os caracteres em minusculos"
   ]
  },
  {
   "cell_type": "code",
   "execution_count": 9,
   "metadata": {},
   "outputs": [
    {
     "data": {
      "text/plain": [
       "'Python Hacker'"
      ]
     },
     "execution_count": 9,
     "metadata": {},
     "output_type": "execute_result"
    }
   ],
   "source": [
    "capt_misturada.title() # capitaliza primeira letra de cada palavra"
   ]
  },
  {
   "cell_type": "code",
   "execution_count": 10,
   "metadata": {},
   "outputs": [
    {
     "data": {
      "text/plain": [
       "'PyTHoN hackER'"
      ]
     },
     "execution_count": 10,
     "metadata": {},
     "output_type": "execute_result"
    }
   ],
   "source": [
    "capt_misturada # a string original segue a mesma"
   ]
  },
  {
   "cell_type": "markdown",
   "metadata": {},
   "source": [
    "> `strip`"
   ]
  },
  {
   "cell_type": "code",
   "execution_count": 11,
   "metadata": {},
   "outputs": [],
   "source": [
    "formatado_feio = ' \\n \\t Alguma informação interessante   ' # \\n : new line, |t : tab <- ambos caracteres \"white space\"\n",
    "stripped = formatado_feio.strip() # remove caracteres \"white space\" das extremidades da string"
   ]
  },
  {
   "cell_type": "code",
   "execution_count": 12,
   "metadata": {},
   "outputs": [
    {
     "name": "stdout",
     "output_type": "stream",
     "text": [
      "ugly:  \n",
      " \t Alguma informação interessante   \n"
     ]
    }
   ],
   "source": [
    "print('ugly: {}'.format(formatado_feio))"
   ]
  },
  {
   "cell_type": "code",
   "execution_count": 13,
   "metadata": {},
   "outputs": [
    {
     "name": "stdout",
     "output_type": "stream",
     "text": [
      "stripped: Alguma informação interessante\n"
     ]
    }
   ],
   "source": [
    "print('stripped: {}'.format(stripped))"
   ]
  },
  {
   "cell_type": "markdown",
   "metadata": {},
   "source": [
    "> `split`"
   ]
  },
  {
   "cell_type": "code",
   "execution_count": 14,
   "metadata": {},
   "outputs": [
    {
     "name": "stdout",
     "output_type": "stream",
     "text": [
      "['três', 'palavras', 'diferentes']\n"
     ]
    }
   ],
   "source": [
    "frase = \"três palavras diferentes\"\n",
    "palavras = frase.split() # quebra string em um separador (default=' ')\n",
    "print(palavras)"
   ]
  },
  {
   "cell_type": "code",
   "execution_count": 15,
   "metadata": {},
   "outputs": [
    {
     "data": {
      "text/plain": [
       "list"
      ]
     },
     "execution_count": 15,
     "metadata": {},
     "output_type": "execute_result"
    }
   ],
   "source": [
    "type(palavras)"
   ]
  },
  {
   "cell_type": "code",
   "execution_count": 16,
   "metadata": {},
   "outputs": [
    {
     "data": {
      "text/plain": [
       "['127', '0', '0', '1']"
      ]
     },
     "execution_count": 16,
     "metadata": {},
     "output_type": "execute_result"
    }
   ],
   "source": [
    "ip = \"127.0.0.1\"\n",
    "ip_sep = ip.split('.')\n",
    "ip_sep"
   ]
  },
  {
   "cell_type": "markdown",
   "metadata": {},
   "source": [
    "Métodos podem ser chamados na mesma linha:"
   ]
  },
  {
   "cell_type": "code",
   "execution_count": 17,
   "metadata": {},
   "outputs": [
    {
     "name": "stdout",
     "output_type": "stream",
     "text": [
      "python é fácil e legal!\n"
     ]
    }
   ],
   "source": [
    "frase_feiosa = '\\tPyTHoN é fÁciL e cHAtO!  '\n",
    "bonitinha = frase_feiosa.strip().lower().replace('chato', 'legal')\n",
    "print(bonitinha)"
   ]
  },
  {
   "cell_type": "markdown",
   "metadata": {},
   "source": [
    "*Exercício 01*"
   ]
  },
  {
   "cell_type": "code",
   "execution_count": null,
   "metadata": {},
   "outputs": [],
   "source": [
    "# preenca os vazios com comandos para obter\n",
    "original = ' Strings em Python são MAROTÍSSIMAS. '\n",
    "minusculo = original._____\n",
    "stripped = ____.strip()\n",
    "stripped_minusculo = original._____._____"
   ]
  },
  {
   "cell_type": "code",
   "execution_count": null,
   "metadata": {},
   "outputs": [],
   "source": [
    "#para verificar se você acertou os comandos acima, rode essa célula. se você obter um AssertionError, é que algo ainda está errado\n",
    "assert minusculo == ' strings em python são marotíssimas. '\n",
    "assert stripped == 'Strings em Python são MAROTÍSSIMAS.'\n",
    "assert stripped_minusculo == 'strings em python são marotíssimas.'"
   ]
  },
  {
   "cell_type": "markdown",
   "metadata": {},
   "source": [
    "*Exercício 02*"
   ]
  },
  {
   "cell_type": "code",
   "execution_count": 18,
   "metadata": {},
   "outputs": [],
   "source": [
    "# transforme a string abaixo em um título corretamente formatado\n",
    "feio = ' mEu LIvrO sOBrE pytHOn\\n\\n'"
   ]
  },
  {
   "cell_type": "code",
   "execution_count": 19,
   "metadata": {},
   "outputs": [],
   "source": [
    "bonito = \"placeholder\""
   ]
  },
  {
   "cell_type": "code",
   "execution_count": null,
   "metadata": {},
   "outputs": [],
   "source": [
    "print('bonito: {}'.format(bonito))\n",
    "assert bonito == 'Meu Livro Sobre Python'"
   ]
  },
  {
   "cell_type": "markdown",
   "metadata": {},
   "source": [
    "### - loops\n",
    "\n",
    "Loops são ferramentas lógicas para realizar uma mesma tarefa diversas vezes. É importante pensar em loops para evitar repetição desnecessária de código, além de aumentar a flexibilidade do programa.\n",
    "\n",
    "Existem duas principais estratégias de formação de loops em Python, o <b>`while`</b> e o <b>`for`</b>.\n",
    "\n",
    "> `while`\n",
    "\n",
    "```python\n",
    "while <condition>:\n",
    "    do_this()\n",
    "```\n",
    "O `while`, funciona como diz o nome: `Enquanto` dada condição for satisfeita, vamos seguir repetindo o bloco de código dentro do loop:"
   ]
  },
  {
   "cell_type": "code",
   "execution_count": 20,
   "metadata": {},
   "outputs": [
    {
     "name": "stdout",
     "output_type": "stream",
     "text": [
      "estou dentro do loop com i = 0\n",
      "estou dentro do loop com i = 1\n",
      "estou dentro do loop com i = 2\n",
      "estou dentro do loop com i = 3\n",
      "estou dentro do loop com i = 4\n",
      "estou dentro do loop com i = 5\n",
      "estou dentro do loop com i = 6\n",
      "estou dentro do loop com i = 7\n",
      "estou dentro do loop com i = 8\n",
      "estou dentro do loop com i = 9\n",
      "agora estou fora do loop e i = 10\n"
     ]
    }
   ],
   "source": [
    "i = 0 # inicializando uma função de controle do loop\n",
    "while i < 10: # inicializando o loop; enquanto i for menor que 10, vamos executar o código abaixo\n",
    "    print(f'estou dentro do loop com i = {i}')\n",
    "    i = i + 1 # atualizando a variável de controle\n",
    "print(f'agora estou fora do loop e i = {i}')"
   ]
  },
  {
   "cell_type": "markdown",
   "metadata": {},
   "source": [
    "É importante tomar cuidado para não esquecer a variável de controle, ou errar a lógica de saída e acabar criando um loop infinito, p.e.:\n",
    "\n",
    "```python\n",
    "tentativas = 0\n",
    "while tentativas < 3:\n",
    "    tentativas = 0 # zerando a variável todo loop significa que ela nunca chegará a três e o loop vai rodar para sempre\n",
    "    tentar()\n",
    "    tentativas = tentativas + 1\n",
    "```"
   ]
  },
  {
   "cell_type": "markdown",
   "metadata": {},
   "source": [
    "> `for`\n",
    "\n",
    "```python\n",
    "for <element> in <sequence>:\n",
    "    do_this()\n",
    "```\n",
    "\n",
    "O `for loop` funciona percorrendo determinada sequência, como uma lista ou mesmo uma string, atribuindo o valor de cada elemento à variável escolhida:"
   ]
  },
  {
   "cell_type": "code",
   "execution_count": 21,
   "metadata": {},
   "outputs": [
    {
     "name": "stdout",
     "output_type": "stream",
     "text": [
      "2\n",
      "3\n",
      "4\n",
      "5\n",
      "meia\n",
      "7\n",
      "8\n",
      "tá\n",
      "na\n",
      "hora\n",
      "de\n",
      "molhar\n",
      "o\n",
      "biscoito\n"
     ]
    }
   ],
   "source": [
    "minha_lista = [2, 3, 4, 5, 'meia', 7, 8, 'tá', 'na', 'hora', 'de', 'molhar', 'o', 'biscoito'] # não entramos em detalhe sobre o que é uma lista, mas pode pensar apenas como uma sequência de valores com uma posição definida\n",
    "for item in minha_lista:\n",
    "    print(item) # \"item\" não significa nada, poderia ser qualquer nome da variável"
   ]
  },
  {
   "cell_type": "code",
   "execution_count": 22,
   "metadata": {},
   "outputs": [
    {
     "name": "stdout",
     "output_type": "stream",
     "text": [
      "s\n",
      "d\n",
      "d\n",
      "s\n",
      " \n",
      "p\n",
      "o\n",
      "c\n",
      "a\n",
      "l\n",
      "i\n",
      "a\n",
      " \n",
      "<\n",
      "3\n"
     ]
    }
   ],
   "source": [
    "minha_string = \"sdds pocalia <3\"\n",
    "for letra in minha_string:\n",
    "    print(letra)"
   ]
  },
  {
   "cell_type": "markdown",
   "metadata": {},
   "source": [
    "Uma função muito utilizada em conjunto com `for loops` é o [`range`](https://docs.python.org/3.7/library/stdtypes.html?highlight=range#range), que retorna uma sequência de números: "
   ]
  },
  {
   "cell_type": "code",
   "execution_count": 23,
   "metadata": {},
   "outputs": [
    {
     "name": "stdout",
     "output_type": "stream",
     "text": [
      "0\n",
      "1\n",
      "2\n",
      "3\n",
      "4\n"
     ]
    }
   ],
   "source": [
    "for numero in range(5):\n",
    "    print(numero)"
   ]
  },
  {
   "cell_type": "markdown",
   "metadata": {},
   "source": [
    "*Exercício 03*\n",
    "\n",
    "Vamos utilizar o método `append` para inserir valores em uma lista. Utilize e [documentação](https://docs.python.org/3.7/tutorial/datastructures.html) para entender como ele funciona ou peça `ajuda`:"
   ]
  },
  {
   "cell_type": "code",
   "execution_count": null,
   "metadata": {},
   "outputs": [],
   "source": [
    "# selecione apenas palavras com mais de 10 letras\n",
    "palavras = ['python', 'netshoes', 'inconstitucionalissimamente', 'paralelepípedo', 'sol', 'data', 'ricardinhoboladinho']\n",
    "palavras_longas = []\n",
    "for _____ in palavras:\n",
    "    if len(_____) > __:\n",
    "        palavras_longas.append(_____)"
   ]
  },
  {
   "cell_type": "code",
   "execution_count": null,
   "metadata": {},
   "outputs": [],
   "source": [
    "assert palavras_longas == ['inconstitucionalissimamente', 'paralelepípedo', 'ricardinhoboladinho']"
   ]
  },
  {
   "cell_type": "markdown",
   "metadata": {},
   "source": [
    "*Exercício 04*"
   ]
  },
  {
   "cell_type": "code",
   "execution_count": 24,
   "metadata": {},
   "outputs": [],
   "source": [
    "# some todos os valores de uma lista levando em conta apenas valores numéricos (dica: busque o método isinstance)\n",
    "valores = ['cebola', 5, 69, 12, 'sorvete', 777, 97, 'pizza', -45]"
   ]
  },
  {
   "cell_type": "code",
   "execution_count": null,
   "metadata": {},
   "outputs": [],
   "source": [
    "soma_dos_valores_numericos = "
   ]
  },
  {
   "cell_type": "code",
   "execution_count": null,
   "metadata": {},
   "outputs": [],
   "source": [
    "assert soma_dos_valores_numericos == 915"
   ]
  },
  {
   "cell_type": "markdown",
   "metadata": {},
   "source": [
    "*Exercício 05 - mini desafio!*\n",
    "\n",
    "Utilize construções `for`, `while` e o módulo [`random`](https://docs.python.org/3.7/library/random.html?) para calcular quantas escolhas da função `random.random` são necessárias em média para que o valor obtido seja maior ou igual que 0.75:\n",
    "\n",
    "> Faça o teste 50 vezes e tire a média da quantidade de passos necessários"
   ]
  },
  {
   "cell_type": "code",
   "execution_count": 25,
   "metadata": {},
   "outputs": [],
   "source": [
    "import random"
   ]
  },
  {
   "cell_type": "code",
   "execution_count": null,
   "metadata": {},
   "outputs": [],
   "source": [
    "# implemente sua solução aqui\n",
    "random.seed(433) # importante usar este mesmo número para garantir que o resultado de todos seja igual\n",
    "\n",
    "# para experimento em experimentos\n",
    "#     enquanto não tiver o resultado esperado tentar de novo\n",
    "# quantas vezes precisei tentar em média?\n",
    "\n",
    "passos_media = "
   ]
  },
  {
   "cell_type": "code",
   "execution_count": null,
   "metadata": {},
   "outputs": [],
   "source": [
    "assert passos_media == 3.98"
   ]
  },
  {
   "cell_type": "markdown",
   "metadata": {},
   "source": [
    "## Desafio - Renomear Arquivos\n",
    "\n",
    "Vamos ao desafio por fim!\n",
    "\n",
    "> O Franchito tentou enviar uma mensagem para todos no time de Data Science por meio de imagens de letras (¯\\\\\\_(ツ)\\_/¯), mas devido à interferências no Kafka, a mensagem ficou toda bagunçada:\n",
    "\n",
    "<img src=\"images\\message-shuffle.png\">"
   ]
  },
  {
   "cell_type": "markdown",
   "metadata": {},
   "source": [
    "Após detalhada análise, ficou determinado uma série de corrupções aconteceream no nome dos arquivos que estavam originalmente ordenados corretamente. A sua missão como pythonista de plantão é criar um script que corrija os nomes de arquivo e faça com que o time possa acessar a importante mensagem do Franchito.\n",
    "\n",
    "Os erros identificados forma os seguintes:\n",
    "- números aleatórios foram inseridos (originalmente são apenas letras!)\n",
    "- o nome do arquivo foi invertido\n",
    "- campos adicionais separados por '-' foram inseridos antes e depois do nome original\n",
    "\n",
    "Existem diversas formas de solucionar esse problema, mas o que você precisa fazer é desfazer cada uma dessas manipulações. \n",
    "\n",
    "Boa sorte!"
   ]
  },
  {
   "cell_type": "code",
   "execution_count": 26,
   "metadata": {},
   "outputs": [],
   "source": [
    "# dica: será necessário utilizar as lib padrão os para acessar os arquivos, busque sobre ela na documentação\n",
    "import os"
   ]
  },
  {
   "cell_type": "code",
   "execution_count": null,
   "metadata": {},
   "outputs": [],
   "source": [
    "# escreva sua solução aqui\n"
   ]
  },
  {
   "cell_type": "markdown",
   "metadata": {},
   "source": [
    "Quando acabar, por favor acesse o questionário de finalização do desafio e responda a mensagem final bem como sobre as outras etapas desse desafio!\n",
    "\n",
    "Muito obrigado pela participação e qualquer coisa, só gritar!\n",
    "\n",
    "<br><br>\n",
    "<b>*Happy Coding!*</b>"
   ]
  },
  {
   "cell_type": "markdown",
   "metadata": {},
   "source": [
    "<hr>"
   ]
  }
 ],
 "metadata": {
  "kernelspec": {
   "display_name": "Python [ns-python]",
   "language": "python",
   "name": "ns-python"
  },
  "language_info": {
   "codemirror_mode": {
    "name": "ipython",
    "version": 3
   },
   "file_extension": ".py",
   "mimetype": "text/x-python",
   "name": "python",
   "nbconvert_exporter": "python",
   "pygments_lexer": "ipython3",
   "version": "3.6.6"
  }
 },
 "nbformat": 4,
 "nbformat_minor": 2
}
